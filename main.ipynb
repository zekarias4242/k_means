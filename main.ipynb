{
 "cells": [
  {
   "cell_type": "markdown",
   "id": "9a85f966",
   "metadata": {},
   "source": [
    "# objective\n",
    "#### Applying K-means over a given real estate data and discuss results"
   ]
  },
  {
   "cell_type": "code",
   "execution_count": 1,
   "id": "1df8d2f3",
   "metadata": {},
   "outputs": [],
   "source": [
    "#dependencies\n",
    "import pandas as pd\n",
    "from sklearn.cluster import KMeans\n",
    "import matplotlib.pyplot as plt\n",
    "from sklearn.preprocessing import StandardScaler\n",
    "import warnings\n",
    "warnings.filterwarnings('ignore')"
   ]
  },
  {
   "cell_type": "code",
   "execution_count": 2,
   "id": "c6d48882",
   "metadata": {},
   "outputs": [],
   "source": [
    "#loading of dataset\n",
    "data = pd.read_excel('Realstate_dataset.xlsx')"
   ]
  },
  {
   "cell_type": "code",
   "execution_count": 3,
   "id": "2d3df305",
   "metadata": {},
   "outputs": [
    {
     "name": "stdout",
     "output_type": "stream",
     "text": [
      "<class 'pandas.core.frame.DataFrame'>\n",
      "RangeIndex: 414 entries, 0 to 413\n",
      "Data columns (total 8 columns):\n",
      " #   Column                                  Non-Null Count  Dtype  \n",
      "---  ------                                  --------------  -----  \n",
      " 0   No                                      414 non-null    int64  \n",
      " 1   X1 transaction date                     414 non-null    float64\n",
      " 2   X2 house age                            414 non-null    float64\n",
      " 3   X3 distance to the nearest MRT station  414 non-null    float64\n",
      " 4   X4 number of convenience stores         414 non-null    int64  \n",
      " 5   X5 latitude                             414 non-null    float64\n",
      " 6   X6 longitude                            414 non-null    float64\n",
      " 7   Y house price of unit area              414 non-null    float64\n",
      "dtypes: float64(6), int64(2)\n",
      "memory usage: 26.0 KB\n"
     ]
    }
   ],
   "source": [
    "#understanding what features we working with\n",
    "data.info()"
   ]
  },
  {
   "cell_type": "code",
   "execution_count": 4,
   "id": "4261ce56",
   "metadata": {},
   "outputs": [],
   "source": [
    "# Selecting relevant features for clustering\n",
    "features = data[['X2 house age', 'X3 distance to the nearest MRT station', 'X4 number of convenience stores', 'X5 latitude', 'X6 longitude']]"
   ]
  },
  {
   "cell_type": "code",
   "execution_count": 5,
   "id": "34509bb7",
   "metadata": {},
   "outputs": [],
   "source": [
    "# Standardizing the features\n",
    "scaler = StandardScaler()\n",
    "scaled_features = scaler.fit_transform(features)"
   ]
  },
  {
   "cell_type": "code",
   "execution_count": 6,
   "id": "70660fbf",
   "metadata": {},
   "outputs": [],
   "source": [
    "# Choosing the number of clusters using the Elbow method\n",
    "wcss = []\n",
    "for i in range(1, 11):\n",
    "    kmeans = KMeans(n_clusters=i, init='k-means++', max_iter=300, n_init=10, random_state=0)\n",
    "    kmeans.fit(scaled_features)\n",
    "    wcss.append(kmeans.inertia_)"
   ]
  },
  {
   "cell_type": "code",
   "execution_count": 7,
   "id": "8f6944f0",
   "metadata": {},
   "outputs": [
    {
     "data": {
      "image/png": "[encoded data removed]",
      "text/plain": [
       "<Figure size 432x288 with 1 Axes>"
      ]
     },
     "metadata": {
      "needs_background": "light"
     },
     "output_type": "display_data"
    }
   ],
   "source": [
    "# Ploting the Elbow curve\n",
    "plt.plot(range(1, 11), wcss)\n",
    "plt.title('Elbow Method')\n",
    "plt.xlabel('Number of clusters')\n",
    "plt.ylabel('WCSS')  # Within-Cluster Sum of Squares\n",
    "plt.show()"
   ]
  },
  {
   "cell_type": "code",
   "execution_count": 8,
   "id": "de4ffbc1",
   "metadata": {},
   "outputs": [],
   "source": [
    "# Based on the Elbow curve, we choose the optimal K value and train the final model\n",
    "k = 3  # Replace with your chosen K\n",
    "kmeans = KMeans(n_clusters=k, init='k-means++', max_iter=300, n_init=10, random_state=0)\n",
    "data['Cluster'] = kmeans.fit_predict(scaled_features)\n"
   ]
  },
  {
   "cell_type": "code",
   "execution_count": 9,
   "id": "2f8c83bf",
   "metadata": {},
   "outputs": [
    {
     "name": "stdout",
     "output_type": "stream",
     "text": [
      "   No  X1 transaction date  X2 house age  \\\n",
      "0   1          2012.916667          32.0   \n",
      "1   2          2012.916667          19.5   \n",
      "2   3          2013.583333          13.3   \n",
      "3   4          2013.500000          13.3   \n",
      "4   5          2012.833333           5.0   \n",
      "\n",
      "   X3 distance to the nearest MRT station  X4 number of convenience stores  \\\n",
      "0                                84.87882                               10   \n",
      "1                               306.59470                                9   \n",
      "2                               561.98450                                5   \n",
      "3                               561.98450                                5   \n",
      "4                               390.56840                                5   \n",
      "\n",
      "   X5 latitude  X6 longitude  Y house price of unit area  Cluster  \n",
      "0     24.98298     121.54024                        37.9        0  \n",
      "1     24.98034     121.53951                        42.2        0  \n",
      "2     24.98746     121.54391                        47.3        0  \n",
      "3     24.98746     121.54391                        54.8        0  \n",
      "4     24.97937     121.54245                        43.1        0  \n"
     ]
    }
   ],
   "source": [
    "#Exploring the clusters and analyze the results\n",
    "print(data.head())"
   ]
  },
  {
   "cell_type": "code",
   "execution_count": 10,
   "id": "bc6c4051",
   "metadata": {},
   "outputs": [
    {
     "data": {
      "image/png": "[encoded data removed]",
      "text/plain": [
       "<Figure size 720x432 with 1 Axes>"
      ]
     },
     "metadata": {
      "needs_background": "light"
     },
     "output_type": "display_data"
    }
   ],
   "source": [
    "cluster_colors = {0: 'red', 1: 'blue', 2: 'green'}\n",
    "\n",
    "# Scatterplot of latitude vs longitude, color-coded by cluster\n",
    "plt.figure(figsize=(10, 6))\n",
    "for cluster_id, color in cluster_colors.items():\n",
    "    cluster_data = data[data['Cluster'] == cluster_id]\n",
    "    plt.scatter(cluster_data['X6 longitude'], cluster_data['X5 latitude'], c=color, label=f'Cluster {cluster_id}')\n",
    "\n",
    "plt.title('K-Means Clustering of Real Estate Data')\n",
    "plt.xlabel('Longitude')\n",
    "plt.ylabel('Latitude')\n",
    "plt.legend()\n",
    "plt.grid(True)\n",
    "plt.show()"
   ]
  },
  {
   "cell_type": "markdown",
   "id": "3e4977b1",
   "metadata": {},
   "source": [
    "# Result Discussion:"
   ]
  },
  {
   "cell_type": "markdown",
   "id": "e19e4f2b",
   "metadata": {},
   "source": [
    "### <font color='Red'> Cluster 0 (Red):\n",
    "\n",
    "- **Distance to MRT:** Properties in Cluster 0 have a moderate distance to the nearest MRT station, with an average of approximately 469.4 meters. This indicates a reasonable level of accessibility to public transportation for residents in this cluster.\n",
    "\n",
    "- **Price:** Houses in Cluster 0 have a wide range of prices, with an average unit price of approximately 46.26. Prices are moderate, making them attractive for budget-conscious buyers.\n",
    "\n",
    "- **Age of House:** The houses in Cluster 0 tend to be relatively older, with an average age of approximately 21.36 years. Buyers in this cluster might be interested in more affordable options but may consider renovation or remodeling.\n",
    "\n",
    "### <font color='Blue'>Cluster 1 (Blue):\n",
    "\n",
    "- **Distance to MRT:** Cluster 1 includes properties that are relatively closer to MRT stations, with an average distance of approximately 272.74 meters. This cluster offers excellent access to public transportation, which can be a significant convenience for residents.\n",
    "\n",
    "- **Price:** Similar to Cluster 0, houses in Cluster 1 also have a wide range of prices, with an average unit price of approximately 45.45. Prices are moderate, and buyers may prioritize accessibility and convenience.\n",
    "\n",
    "- **Age of House:** Cluster 1 consists of houses with an average age of approximately 29.75 years, indicating older properties. Buyers in this cluster may prioritize proximity to convenience stores and public transportation over the age of the houses.\n",
    "\n",
    "### <font color='Green'> Cluster 2 (Green):\n",
    "\n",
    "- **Distance to MRT:** Properties in Cluster 2 have a moderate average distance of approximately 383.78 meters to the nearest MRT station. While not as close as Cluster 1, they still offer good accessibility to public transportation.\n",
    "\n",
    "- **Price:** Properties in this cluster also have a wide range of prices, with an average unit price of approximately 47.97. The relatively newer age of houses may contribute to the slightly higher prices in this cluster.\n",
    "\n",
    "- **Age of House:** Properties in this cluster are relatively newer, with an average age of approximately 11.65 years. Buyers may find newer homes appealing for their potentially modern features and lower maintenance requirements."
   ]
  }
 ],
 "metadata": {
  "kernelspec": {
   "display_name": "Python 3 (ipykernel)",
   "language": "python",
   "name": "python3"
  },
  "language_info": {
   "codemirror_mode": {
    "name": "ipython",
    "version": 3
   },
   "file_extension": ".py",
   "mimetype": "text/x-python",
   "name": "python",
   "nbconvert_exporter": "python",
   "pygments_lexer": "ipython3",
   "version": "3.9.7"
  }
 },
 "nbformat": 4,
 "nbformat_minor": 5
}
